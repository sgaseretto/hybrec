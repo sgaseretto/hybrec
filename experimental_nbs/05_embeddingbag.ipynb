{
 "cells": [
  {
   "cell_type": "code",
   "execution_count": 79,
   "metadata": {},
   "outputs": [],
   "source": [
    "import torch\n",
    "from torch import nn\n",
    "import random"
   ]
  },
  {
   "cell_type": "code",
   "execution_count": 2,
   "metadata": {},
   "outputs": [
    {
     "data": {
      "text/plain": [
       "Parameter containing:\n",
       "tensor([[-0.6892,  0.3329, -0.0888],\n",
       "        [ 1.5789, -0.4462,  0.2201],\n",
       "        [ 0.6228, -0.0206,  0.1260],\n",
       "        [ 0.6314,  0.5015,  0.1724],\n",
       "        [-0.1079, -0.0558, -1.1736],\n",
       "        [-1.4469, -0.2794, -2.9468],\n",
       "        [-0.7668,  0.5491, -0.3083],\n",
       "        [-1.2309, -1.3998,  0.3947],\n",
       "        [-0.5466, -0.3768, -0.6833],\n",
       "        [ 0.3448,  1.6080, -1.1067]], requires_grad=True)"
      ]
     },
     "execution_count": 2,
     "metadata": {},
     "output_type": "execute_result"
    }
   ],
   "source": [
    "embedding_sum = nn.EmbeddingBag(10, 3, mode='sum')\n",
    "# embedding_sum = nn.EmbeddingBag(5, 3, mode='sum')\n",
    "embedding_sum.weight"
   ]
  },
  {
   "cell_type": "code",
   "execution_count": 3,
   "metadata": {},
   "outputs": [
    {
     "data": {
      "text/plain": [
       "tensor(5)"
      ]
     },
     "execution_count": 3,
     "metadata": {},
     "output_type": "execute_result"
    }
   ],
   "source": [
    "input = torch.LongTensor([1,2,4,5,4,3,2,9])\n",
    "# input = torch.LongTensor([1,2,4,5,4,3,2])\n",
    "input[3]"
   ]
  },
  {
   "cell_type": "code",
   "execution_count": 4,
   "metadata": {},
   "outputs": [
    {
     "data": {
      "text/plain": [
       "tensor([0, 2, 4])"
      ]
     },
     "execution_count": 4,
     "metadata": {},
     "output_type": "execute_result"
    }
   ],
   "source": [
    "# offsets = torch.LongTensor([0,4])\n",
    "offsets = torch.LongTensor([0,2,4])\n",
    "offsets"
   ]
  },
  {
   "cell_type": "code",
   "execution_count": 10,
   "metadata": {},
   "outputs": [
    {
     "data": {
      "text/plain": [
       "tensor([[ 2.2017, -0.4668,  0.3461],\n",
       "        [-1.5548, -0.3353, -4.1204],\n",
       "        [ 1.4913,  2.0331, -1.9819]], grad_fn=<EmbeddingBagBackward>)"
      ]
     },
     "execution_count": 10,
     "metadata": {},
     "output_type": "execute_result"
    }
   ],
   "source": [
    "embedding_sum(input, offsets)"
   ]
  },
  {
   "cell_type": "code",
   "execution_count": 6,
   "metadata": {},
   "outputs": [
    {
     "data": {
      "text/plain": [
       "Parameter containing:\n",
       "tensor([[-0.6892,  0.3329, -0.0888],\n",
       "        [ 1.5789, -0.4462,  0.2201],\n",
       "        [ 0.6228, -0.0206,  0.1260],\n",
       "        [ 0.6314,  0.5015,  0.1724],\n",
       "        [-0.1079, -0.0558, -1.1736],\n",
       "        [-1.4469, -0.2794, -2.9468],\n",
       "        [-0.7668,  0.5491, -0.3083],\n",
       "        [-1.2309, -1.3998,  0.3947],\n",
       "        [-0.5466, -0.3768, -0.6833],\n",
       "        [ 0.3448,  1.6080, -1.1067]], requires_grad=True)"
      ]
     },
     "execution_count": 6,
     "metadata": {},
     "output_type": "execute_result"
    }
   ],
   "source": [
    "embedding_sum.weight"
   ]
  },
  {
   "cell_type": "code",
   "execution_count": 7,
   "metadata": {},
   "outputs": [],
   "source": [
    "feature_1 = [0,3,4]\n",
    "# feature_"
   ]
  },
  {
   "cell_type": "markdown",
   "metadata": {},
   "source": [
    "## Tensor test"
   ]
  },
  {
   "cell_type": "code",
   "execution_count": 8,
   "metadata": {},
   "outputs": [
    {
     "data": {
      "text/plain": [
       "torch.nn.parameter.Parameter"
      ]
     },
     "execution_count": 8,
     "metadata": {},
     "output_type": "execute_result"
    }
   ],
   "source": [
    "type(embedding_sum.weight)"
   ]
  },
  {
   "cell_type": "code",
   "execution_count": 26,
   "metadata": {},
   "outputs": [],
   "source": [
    "x = torch.Tensor([[1,1,1,1,1,1],[2,2,2,2,2,2],[3,3,3,3,3,3],[4,4,4,4,4,4],[5,5,5,5,5,5],[6,6,6,6,6,6]])\n",
    "y = torch.Tensor([[1,1,1],[2,2,2],[3,3,3]])"
   ]
  },
  {
   "cell_type": "code",
   "execution_count": 27,
   "metadata": {},
   "outputs": [
    {
     "data": {
      "text/plain": [
       "tensor([[1., 1., 1., 1., 1., 1.],\n",
       "        [2., 2., 2., 2., 2., 2.],\n",
       "        [3., 3., 3., 3., 3., 3.],\n",
       "        [4., 4., 4., 4., 4., 4.],\n",
       "        [5., 5., 5., 5., 5., 5.],\n",
       "        [6., 6., 6., 6., 6., 6.]])"
      ]
     },
     "execution_count": 27,
     "metadata": {},
     "output_type": "execute_result"
    }
   ],
   "source": [
    "x"
   ]
  },
  {
   "cell_type": "code",
   "execution_count": 28,
   "metadata": {},
   "outputs": [
    {
     "data": {
      "text/plain": [
       "tensor([[1., 1., 1.],\n",
       "        [2., 2., 2.],\n",
       "        [3., 3., 3.]])"
      ]
     },
     "execution_count": 28,
     "metadata": {},
     "output_type": "execute_result"
    }
   ],
   "source": [
    "y"
   ]
  },
  {
   "cell_type": "code",
   "execution_count": 43,
   "metadata": {},
   "outputs": [
    {
     "data": {
      "text/plain": [
       "tensor([[1., 0., 0.],\n",
       "        [0., 1., 1.],\n",
       "        [0., 1., 0.],\n",
       "        [1., 1., 1.]])"
      ]
     },
     "execution_count": 43,
     "metadata": {},
     "output_type": "execute_result"
    }
   ],
   "source": [
    "indices = torch.Tensor([[1,0,0],\n",
    "                        [0,1,1],\n",
    "                        [0,1,0],\n",
    "                        [1,1,1]])\n",
    "indices"
   ]
  },
  {
   "cell_type": "code",
   "execution_count": 45,
   "metadata": {},
   "outputs": [
    {
     "data": {
      "text/plain": [
       "tensor([[1., 1., 1.],\n",
       "        [5., 5., 5.],\n",
       "        [2., 2., 2.],\n",
       "        [6., 6., 6.]])"
      ]
     },
     "execution_count": 45,
     "metadata": {},
     "output_type": "execute_result"
    }
   ],
   "source": [
    "indices.mm(y)"
   ]
  },
  {
   "cell_type": "code",
   "execution_count": 48,
   "metadata": {},
   "outputs": [],
   "source": [
    "embedding_test = nn.EmbeddingBag.from_pretrained(embeddings=y, mode='sum')"
   ]
  },
  {
   "cell_type": "code",
   "execution_count": 50,
   "metadata": {},
   "outputs": [
    {
     "data": {
      "text/plain": [
       "Parameter containing:\n",
       "tensor([[1., 1., 1.],\n",
       "        [2., 2., 2.],\n",
       "        [3., 3., 3.]])"
      ]
     },
     "execution_count": 50,
     "metadata": {},
     "output_type": "execute_result"
    }
   ],
   "source": [
    "embedding_test.weight"
   ]
  },
  {
   "cell_type": "code",
   "execution_count": 179,
   "metadata": {},
   "outputs": [],
   "source": [
    "# List of indices to sum\n",
    "list_of_indices = [[0],\n",
    "                   [1,2],[],\n",
    "                   [1],\n",
    "                   [0,1,2],]\n",
    "\n",
    "def gen_indices_n_offsets(list_of_indices):\n",
    "    indices = []\n",
    "    offsets = [0]\n",
    "    last_offset = 0\n",
    "    avg_val = []\n",
    "    for l in list_of_indices:\n",
    "        indices += l\n",
    "        last_offset += len(l)\n",
    "        if len(l) > 0: \n",
    "            avg_val.append(2)\n",
    "        else:\n",
    "            avg_val.append(1)\n",
    "        offsets.append(last_offset)\n",
    "    offsets.pop()\n",
    "    return torch.LongTensor(indices), torch.LongTensor(offsets), torch.LongTensor(avg_val)"
   ]
  },
  {
   "cell_type": "code",
   "execution_count": 180,
   "metadata": {},
   "outputs": [
    {
     "data": {
      "text/plain": [
       "(tensor([0, 1, 2, 1, 0, 1, 2]),\n",
       " tensor([0, 1, 3, 3, 4]),\n",
       " tensor([2, 2, 1, 2, 2]))"
      ]
     },
     "execution_count": 180,
     "metadata": {},
     "output_type": "execute_result"
    }
   ],
   "source": [
    "gen_indices_n_offsets(list_of_indices)"
   ]
  },
  {
   "cell_type": "code",
   "execution_count": 181,
   "metadata": {},
   "outputs": [
    {
     "data": {
      "text/plain": [
       "tensor([[1., 1., 1.],\n",
       "        [5., 5., 5.],\n",
       "        [0., 0., 0.],\n",
       "        [2., 2., 2.],\n",
       "        [6., 6., 6.]])"
      ]
     },
     "execution_count": 181,
     "metadata": {},
     "output_type": "execute_result"
    }
   ],
   "source": [
    "indices, offsets, avg_val = gen_indices_n_offsets(list_of_indices)\n",
    "embedding_test(indices, offsets)"
   ]
  },
  {
   "cell_type": "code",
   "execution_count": 182,
   "metadata": {},
   "outputs": [],
   "source": [
    "def indices_generator(embeddings, n_resultant_embeddings=None, seed=7):\n",
    "    random.seed(seed)\n",
    "    p = len(embeddings)\n",
    "    q = n_resultant_embeddings\n",
    "    m = []\n",
    "    for i in range(q):\n",
    "        n = []\n",
    "        for j in range(p):\n",
    "            n.append(int(random.random()*2))\n",
    "        m.append(n)\n",
    "    return m"
   ]
  },
  {
   "cell_type": "code",
   "execution_count": 183,
   "metadata": {},
   "outputs": [
    {
     "data": {
      "text/plain": [
       "[[1, 1, 1], [1, 1, 1], [0, 0, 1], [1, 1, 0]]"
      ]
     },
     "execution_count": 183,
     "metadata": {},
     "output_type": "execute_result"
    }
   ],
   "source": [
    "l = indices_generator(embedding_test.weight, 4, seed=5)\n",
    "l"
   ]
  },
  {
   "cell_type": "code",
   "execution_count": 184,
   "metadata": {},
   "outputs": [],
   "source": [
    "def generate_list_of_indices(l_of_l):\n",
    "    l = []\n",
    "    for i in range(len(l_of_l)):\n",
    "        indices = []\n",
    "        for j in range(len(l_of_l[i])):\n",
    "            if l_of_l[i][j] != 0:\n",
    "                indices.append(j)\n",
    "        l.append(indices)\n",
    "    return l"
   ]
  },
  {
   "cell_type": "code",
   "execution_count": 185,
   "metadata": {},
   "outputs": [],
   "source": [
    "lista = generate_list_of_indices(l)"
   ]
  },
  {
   "cell_type": "code",
   "execution_count": 186,
   "metadata": {},
   "outputs": [
    {
     "data": {
      "text/plain": [
       "[[0, 1, 2], [0, 1, 2], [2], [0, 1]]"
      ]
     },
     "execution_count": 186,
     "metadata": {},
     "output_type": "execute_result"
    }
   ],
   "source": [
    "lista"
   ]
  },
  {
   "cell_type": "code",
   "execution_count": null,
   "metadata": {},
   "outputs": [],
   "source": []
  }
 ],
 "metadata": {
  "kernelspec": {
   "display_name": "Python 3",
   "language": "python",
   "name": "python3"
  },
  "language_info": {
   "codemirror_mode": {
    "name": "ipython",
    "version": 3
   },
   "file_extension": ".py",
   "mimetype": "text/x-python",
   "name": "python",
   "nbconvert_exporter": "python",
   "pygments_lexer": "ipython3",
   "version": "3.8.5"
  }
 },
 "nbformat": 4,
 "nbformat_minor": 4
}
