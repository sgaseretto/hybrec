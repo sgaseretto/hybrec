{
 "cells": [
  {
   "cell_type": "code",
   "execution_count": null,
   "metadata": {},
   "outputs": [],
   "source": [
    "#hide\n",
    "import os\n",
    "import sys\n",
    "module_path = os.path.abspath(os.path.join('..'))\n",
    "if module_path not in sys.path:\n",
    "    sys.path.append(module_path)"
   ]
  },
  {
   "cell_type": "code",
   "execution_count": null,
   "metadata": {},
   "outputs": [],
   "source": [
    "# hide\n",
    "from lfmu.core import *\n",
    "from lfmu.synth import *"
   ]
  },
  {
   "cell_type": "markdown",
   "metadata": {},
   "source": [
    "# Tests to see how to re-map users and items\n",
    "\n",
    "This notebook shows how to test the remapping of users and items when some of them are deleted, added or modified"
   ]
  },
  {
   "cell_type": "code",
   "execution_count": null,
   "metadata": {},
   "outputs": [
    {
     "name": "stdout",
     "output_type": "stream",
     "text": [
      "added users: ['u2', 'u3']\t deleted users: ['u0', 'u1']\n",
      "added items: ['i0', 'i4']\t deleted items: ['i1', 'i2']\n",
      "users before:\t['u0', 'u1', 'u4', 'u5']\n",
      "users after:\t['u2', 'u3', 'u4', 'u5']\n",
      "items before:\t['i1', 'i2', 'i3', 'i5']\n",
      "items after:\t['i0', 'i3', 'i4', 'i5']\n"
     ]
    }
   ],
   "source": [
    "dataset = SynthDataset()\n",
    "dataset.build_synth_dataset(n_users=6, n_items=6, max_added=2, max_deleted=2, print_added_n_deleted=True)"
   ]
  },
  {
   "cell_type": "code",
   "execution_count": null,
   "metadata": {},
   "outputs": [],
   "source": []
  }
 ],
 "metadata": {
  "kernelspec": {
   "display_name": "Python 3",
   "language": "python",
   "name": "python3"
  }
 },
 "nbformat": 4,
 "nbformat_minor": 4
}
