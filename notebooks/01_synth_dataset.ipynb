{
 "cells": [
  {
   "cell_type": "code",
   "execution_count": null,
   "metadata": {},
   "outputs": [],
   "source": [
    "# default_exp synth"
   ]
  },
  {
   "cell_type": "markdown",
   "metadata": {},
   "source": [
    "# Synth Dataset Generator\n",
    "\n",
    "> Module to generate Synthetic Datasets to perform tests"
   ]
  },
  {
   "cell_type": "markdown",
   "metadata": {},
   "source": [
    "This module is used to initialize datasets to test the utils from this library"
   ]
  },
  {
   "cell_type": "code",
   "execution_count": null,
   "metadata": {},
   "outputs": [],
   "source": [
    "# hide\n",
    "import os\n",
    "import sys\n",
    "module_path = os.path.abspath(os.path.join('..'))\n",
    "if module_path not in sys.path:\n",
    "    sys.path.append(module_path)"
   ]
  },
  {
   "cell_type": "code",
   "execution_count": null,
   "metadata": {},
   "outputs": [],
   "source": [
    "# export\n",
    "import pandas as pd\n",
    "import numpy as np\n",
    "import random\n",
    "from lightfm import LightFM\n",
    "from lightfm.data import Dataset\n",
    "from fastcore.all import * \n",
    "from datetime import datetime\n",
    "\n",
    "random.seed(42)"
   ]
  },
  {
   "cell_type": "code",
   "execution_count": null,
   "metadata": {},
   "outputs": [],
   "source": [
    "# export\n",
    "class SynthDataset():\n",
    "    '''\n",
    "    Instance of two states of a dataset, one at time **T** and the other at time **T+1** \n",
    "    where some users and items could had been added, deleted, and also their feautes\n",
    "    '''\n",
    "    def __init__(self):\n",
    "        self.all_users = []\n",
    "        self.all_items = []\n",
    "        self.all_user_metadata = []\n",
    "        self.all_item_metadata = []\n",
    "        \n",
    "        self.before = {}\n",
    "        self.after = {}\n",
    "        \n",
    "        self.users_added = []\n",
    "        self.users_deleted = []\n",
    "        self.items_added = []\n",
    "        self.items_deleted = []\n",
    "        \n",
    "        self.deleted_user_metadata = []\n",
    "        self.added_user_metadata = []\n",
    "        self.deleted_item_metadata = []\n",
    "        self.added_item_metadata = []"
   ]
  },
  {
   "cell_type": "code",
   "execution_count": null,
   "metadata": {},
   "outputs": [],
   "source": [
    "# export\n",
    "def gen_values(n_values:int = 10, prefix:str ='u') -> list:\n",
    "    \"Generates a list of values that will be used for generate the dataset\"\n",
    "    l = []\n",
    "    for i in range(n_values):\n",
    "        l.append(prefix + str(i))\n",
    "    return l"
   ]
  },
  {
   "cell_type": "code",
   "execution_count": null,
   "metadata": {},
   "outputs": [
    {
     "data": {
      "text/plain": [
       "['u0', 'u1', 'u2', 'u3', 'u4', 'u5', 'u6', 'u7', 'u8', 'u9']"
      ]
     },
     "execution_count": null,
     "metadata": {},
     "output_type": "execute_result"
    }
   ],
   "source": [
    "gen_values()"
   ]
  },
  {
   "cell_type": "code",
   "execution_count": null,
   "metadata": {},
   "outputs": [],
   "source": [
    "# export\n",
    "def gen_added_n_deleted(l_values:list, max_added:int = 3, max_deleted:int = 3) -> (list, list):\n",
    "    '''\n",
    "    Generates two lists of values, one list will contain the values that will be deleted from the dataset,\n",
    "    and the second one will contain the values that will be added to the dataset.\n",
    "    '''\n",
    "    deleted = []\n",
    "    added = []\n",
    "    for i in l_values:\n",
    "        r = random.random()\n",
    "        if len(deleted) < max_deleted and r < 0.8:\n",
    "            deleted.append(i)\n",
    "        elif len(added) < max_added and r > 0.2:\n",
    "            added.append(i)\n",
    "            \n",
    "    return added, deleted"
   ]
  },
  {
   "cell_type": "code",
   "execution_count": null,
   "metadata": {},
   "outputs": [
    {
     "data": {
      "text/plain": [
       "(['u3', 'u4', 'u5'], ['u0', 'u1', 'u2'])"
      ]
     },
     "execution_count": null,
     "metadata": {},
     "output_type": "execute_result"
    }
   ],
   "source": [
    "gen_added_n_deleted(gen_values())"
   ]
  },
  {
   "cell_type": "code",
   "execution_count": null,
   "metadata": {},
   "outputs": [],
   "source": [
    "# export\n",
    "def exclude_element(l:list, values_to_exclude:list, shuffle:bool = False) -> list:\n",
    "    \"Excludes the elements from **values_to_exclude** from **l**\"\n",
    "    new_l = [x for x in l if set(values_to_exclude).issuperset({x}) == False]\n",
    "    if shuffle: new_l.shuffle()\n",
    "    return new_l"
   ]
  },
  {
   "cell_type": "code",
   "execution_count": null,
   "metadata": {},
   "outputs": [],
   "source": [
    "# hide\n",
    "a = [1,2,3,4]\n",
    "b = [2,3]\n",
    "\n",
    "assert exclude_element(a, b) == [1,4], 'Both lists should be equal'"
   ]
  },
  {
   "cell_type": "code",
   "execution_count": null,
   "metadata": {},
   "outputs": [],
   "source": [
    "# export\n",
    "def build_interactions(l1:list, \n",
    "                       l2:list, \n",
    "                       l1_col_name:str = 'user_id', \n",
    "                       l2_col_name:str = 'item_id', \n",
    "                       sparsity:float = 0.5, \n",
    "                       feedback:bool = False, \n",
    "                       timestamp:bool = False) -> pd.DataFrame:\n",
    "    '''\n",
    "    Builds interactions between l1 and l2. \n",
    "    The sparsity determines how sparse this interactions will be.\n",
    "    If feedback equals **True** a column with feedback of one is added\n",
    "    If timestamp equals **True** a column with a timestamp is added in order to determine the order in which each interaction occurred\n",
    "    '''\n",
    "    interactions = {l1_col_name:[], l2_col_name:[]}\n",
    "    if feedback: interactions['feedback']=[]\n",
    "    if timestamp: interactions['timestamp']=[]\n",
    "    for i in l1:\n",
    "        for j in l2:\n",
    "            if random.random() < sparsity:\n",
    "                interactions[l1_col_name].append(i)\n",
    "                interactions[l2_col_name].append(j)\n",
    "                if feedback: interactions['feedback'].append(1)\n",
    "                if timestamp: interactions['timestamp'].append(datetime.timestamp(datetime.now()))\n",
    "    return pd.DataFrame(interactions)"
   ]
  },
  {
   "cell_type": "code",
   "execution_count": null,
   "metadata": {},
   "outputs": [],
   "source": [
    "# hide\n",
    "test_interactions = build_interactions(gen_values(prefix='u'), gen_values(prefix='i'))"
   ]
  },
  {
   "cell_type": "code",
   "execution_count": null,
   "metadata": {},
   "outputs": [],
   "source": [
    "# export\n",
    "def build_metadata_from_df(metadata_interactions_df:pd.DataFrame, element_id_column:str, metadata_column:str, tolist=True) -> [tuple]:\n",
    "    '''\n",
    "    Builds tuples of elements and its metadata to build the dataset\n",
    "    '''\n",
    "    unique_elements = metadata_interactions_df[element_id_column].unique()\n",
    "    tuples = []\n",
    "    for e in unique_elements:\n",
    "        filtered_rows = metadata_interactions_df[metadata_interactions_df[element_id_column] == e]\n",
    "        metadata_list = filtered_rows[metadata_column].unique()\n",
    "        if tolist: metadata_list = metadata_list.tolist()\n",
    "        tuples.append((e, metadata_list))\n",
    "    return tuples"
   ]
  },
  {
   "cell_type": "code",
   "execution_count": null,
   "metadata": {},
   "outputs": [
    {
     "data": {
      "text/plain": [
       "[('u0', ['f1', 'f3']), ('u1', ['f2']), ('u2', ['f1']), ('u3', ['f2', 'f3'])]"
      ]
     },
     "execution_count": null,
     "metadata": {},
     "output_type": "execute_result"
    }
   ],
   "source": [
    "# hide\n",
    "user_metadata = build_interactions(gen_values(n_values=4, prefix='u'), \n",
    "                   gen_values(n_values=4, prefix='f'), \n",
    "                   l1_col_name='user_id', \n",
    "                   l2_col_name='metadata_id', \n",
    "                   sparsity=0.5\n",
    "                  )\n",
    "\n",
    "build_metadata_from_df(user_metadata, 'user_id', 'metadata_id')"
   ]
  },
  {
   "cell_type": "code",
   "execution_count": null,
   "metadata": {},
   "outputs": [
    {
     "data": {
      "text/plain": [
       "(['u0', 'u1', 'u2', 'u3', 'u4', 'u5', 'u6', 'u7', 'u8', 'u9'],\n",
       " ['i0', 'i1', 'i2', 'i3', 'i4', 'i5', 'i6', 'i7', 'i8', 'i9'],\n",
       " ['uf0', 'uf1', 'uf2', 'uf3', 'uf4', 'uf5', 'uf6', 'uf7', 'uf8', 'uf9'],\n",
       " ['if0', 'if1', 'if2', 'if3', 'if4', 'if5', 'if6', 'if7', 'if8', 'if9'],\n",
       " [('u0', ['uf0', 'uf4', 'uf5', 'uf8', 'uf9']),\n",
       "  ('u1', ['uf0', 'uf3', 'uf4', 'uf6', 'uf8', 'uf9']),\n",
       "  ('u2', ['uf2', 'uf3', 'uf6', 'uf8', 'uf9']),\n",
       "  ('u3', ['uf0', 'uf2', 'uf3', 'uf4', 'uf6', 'uf9']),\n",
       "  ('u4', ['uf0', 'uf2', 'uf3', 'uf6', 'uf9']),\n",
       "  ('u5', ['uf0', 'uf1', 'uf2', 'uf3', 'uf7', 'uf8', 'uf9']),\n",
       "  ('u6', ['uf1', 'uf2', 'uf3', 'uf4', 'uf5', 'uf6', 'uf8']),\n",
       "  ('u7', ['uf1', 'uf7', 'uf8', 'uf9']),\n",
       "  ('u8', ['uf0', 'uf1', 'uf2', 'uf4', 'uf6', 'uf7']),\n",
       "  ('u9', ['uf2', 'uf3', 'uf8'])],\n",
       " [('i0', ['if2', 'if4', 'if5', 'if8', 'if9']),\n",
       "  ('i1', ['if1', 'if4', 'if8']),\n",
       "  ('i2', ['if0', 'if1', 'if3', 'if4', 'if6', 'if7']),\n",
       "  ('i3', ['if0', 'if1', 'if2', 'if6', 'if7']),\n",
       "  ('i4', ['if3', 'if5', 'if8', 'if9']),\n",
       "  ('i5', ['if0', 'if2', 'if5', 'if7', 'if8']),\n",
       "  ('i6', ['if1', 'if2', 'if3', 'if4', 'if7']),\n",
       "  ('i7', ['if0', 'if1', 'if2', 'if8', 'if9']),\n",
       "  ('i8', ['if0', 'if5', 'if6', 'if7']),\n",
       "  ('i9', ['if0', 'if2', 'if8'])])"
      ]
     },
     "execution_count": null,
     "metadata": {},
     "output_type": "execute_result"
    }
   ],
   "source": [
    "# hide\n",
    "users = gen_values(prefix='u')\n",
    "items = gen_values(prefix='i')\n",
    "all_user_metadata = gen_values(prefix='uf')\n",
    "all_item_metadata = gen_values(prefix='if')\n",
    "user_metadata = build_metadata_from_df(\n",
    "    build_interactions(\n",
    "        users,\n",
    "        all_user_metadata,\n",
    "        l1_col_name='user_id', \n",
    "        l2_col_name='metadata_id', \n",
    "        sparsity=0.5\n",
    "    ),\n",
    "    element_id_column='user_id',\n",
    "    metadata_column='metadata_id'\n",
    ")\n",
    "item_metadata = build_metadata_from_df(\n",
    "    build_interactions(\n",
    "        items,\n",
    "        all_item_metadata,\n",
    "        l1_col_name='item_id', \n",
    "        l2_col_name='metadata_id', \n",
    "        sparsity=0.5\n",
    "    ),\n",
    "    element_id_column='item_id',\n",
    "    metadata_column='metadata_id'\n",
    ")\n",
    "users, items, all_user_metadata, all_item_metadata, user_metadata, item_metadata"
   ]
  },
  {
   "cell_type": "code",
   "execution_count": null,
   "metadata": {},
   "outputs": [],
   "source": [
    "# export\n",
    "\n",
    "@patch\n",
    "def add_user_metadata(self: SynthDataset):\n",
    "    '''\n",
    "    Adds metadata to the users\n",
    "    '''\n",
    "    users_metadata = build_metadata_from_df(\n",
    "        build_interactions(\n",
    "            all_users,\n",
    "            all_user_metadata,\n",
    "            l1_col_name='user_id', \n",
    "            l2_col_name='metadata_id', \n",
    "            sparsity=0.5\n",
    "        ),\n",
    "        element_id_column='user_id',\n",
    "        feature_column='metadata_id'\n",
    "    )\n",
    "    return users_metadata\n",
    "\n",
    "@patch\n",
    "def add_item_metadata(self: SynthDataset):\n",
    "    '''\n",
    "    Adds metadata to the items\n",
    "    '''\n",
    "    items_metadata = build_metadata_from_df(\n",
    "        build_interactions(\n",
    "            all_items,\n",
    "            all_item_metadata,\n",
    "            l1_col_name='item_id', \n",
    "            l2_col_name='metadata_id', \n",
    "            sparsity=0.5\n",
    "        ),\n",
    "        element_id_column='item_id',\n",
    "        feature_column='metadata_id'\n",
    "    )\n",
    "    return items_metadata"
   ]
  },
  {
   "cell_type": "code",
   "execution_count": null,
   "metadata": {},
   "outputs": [],
   "source": [
    "#export\n",
    "@patch\n",
    "def gen_users_n_items(self:SynthDataset, \n",
    "                           n_users:int, \n",
    "                           n_items:int):\n",
    "    '''\n",
    "    Method to generate all users and items\n",
    "    '''\n",
    "    self.all_users = gen_values(n_values=n_users, prefix='u')\n",
    "    self.all_items = gen_values(n_values=n_items, prefix='i')\n",
    "    \n",
    "@patch\n",
    "def gen_metadata(self:SynthDataset, n_user_metadata, n_item_metadata):\n",
    "    '''\n",
    "    Generates metadata for users and items\n",
    "    '''\n",
    "    self.all_user_metadata = gen_values(n_values=n_user_metadata, prefix='uf')\n",
    "    self.all_item_metadata = gen_values(n_values=n_item_metadata, prefix='if')\n",
    "    \n",
    "@patch\n",
    "def print_dataset_components(self:SynthDataset, \n",
    "                             print_added_n_deleted:bool, \n",
    "                             add_user_metadata:bool, \n",
    "                             add_item_metadata:bool):\n",
    "    '''\n",
    "    Prints the Dataset components\n",
    "    '''\n",
    "    if print_added_n_deleted: \n",
    "        print('added users: {}\\t deleted users: {}'.format(self.users_added, self.users_deleted))\n",
    "        print('added items: {}\\t deleted items: {}'.format(self.items_added, self.items_deleted))\n",
    "        print('users before:\\t{}\\nusers after:\\t{}'.format(self.before['user_id'], self.after['user_id']))\n",
    "        print('items before:\\t{}\\nitems after:\\t{}'.format(self.before['item_id'], self.after['item_id']))\n",
    "        if add_user_metadata: print('added user features: {}\\t deleted user features: {}'.format(self.added_user_metadata, self.deleted_user_metadata))\n",
    "        if add_item_metadata: print('added item features: {}\\t deleted item features: {}'.format(self.added_item_metadata, self.deleted_item_metadata))\n",
    "        \n",
    "\n",
    "\n"
   ]
  },
  {
   "cell_type": "code",
   "execution_count": null,
   "metadata": {},
   "outputs": [],
   "source": [
    "#export\n",
    "@patch\n",
    "def build_synth_dataset(self:SynthDataset, \n",
    "                        n_users:int = 10, \n",
    "                        n_items:int = 10, \n",
    "                        max_added:int = 3, \n",
    "                        max_deleted:int = 3, \n",
    "                        print_added_n_deleted:bool = False, \n",
    "                        add_user_metadata:bool = False,\n",
    "                        add_item_metadata:bool = False,\n",
    "                        n_user_metadata:int = 10,\n",
    "                        n_item_metadata:int = 10\n",
    "                       ):\n",
    "    '''\n",
    "    This function generates two **datasets** to simulate changes through time from one dataset.\n",
    "    The first generated **dataset** is the state from the data in a time *t* and the second dataset\n",
    "    simulates the state from the data at a time *t+1* where some users and items where added and deleted,\n",
    "    and their metadata could be also updated (new metadata that expresses better the characteristics from that item, or just corrections)\n",
    "    '''\n",
    "\n",
    "    # Generates all the possible users and items\n",
    "    self.gen_users_n_items(n_users=n_users, n_items=n_items)\n",
    "    # Generates all the posible metadata values for users and items\n",
    "    self.gen_metadata(n_user_metadata=n_user_metadata, n_item_metadata=n_item_metadata)\n",
    "    \n",
    "    # Builds two groups of users, the ones that will be added to the system\n",
    "    # and the ones that requested to be deleted from the system\n",
    "    self.users_added, self.users_deleted = gen_added_n_deleted(self.all_users, \n",
    "                                                               max_added=max_added,\n",
    "                                                               max_deleted=max_deleted)\n",
    "    \n",
    "    # Builds two groups of items, the ones that will be added to the system\n",
    "    # and the ones that requested to be deleted from the system\n",
    "    self.items_added, self.items_deleted = gen_added_n_deleted(self.all_items, \n",
    "                                                               max_added=max_added, \n",
    "                                                               max_deleted=max_deleted)\n",
    "        \n",
    "    self.before['user_id'] = exclude_element(self.all_users, self.users_added)\n",
    "    self.before['item_id'] = exclude_element(self.all_items, self.items_added)\n",
    "    self.after['user_id'] = exclude_element(self.all_users, self.users_deleted)\n",
    "    self.after['item_id'] = exclude_element(self.all_items, self.items_deleted)\n",
    "    \n",
    "    if add_user_metadata: self.added_user_metadata, self.deleted_user_metadata = gen_added_n_deleted(self.all_user_metadata, \n",
    "                                                                                   max_added=max_added, \n",
    "                                                                                   max_deleted=max_deleted)\n",
    "    \n",
    "    if add_item_metadata: self.added_item_metadata, self.deleted_item_metadata = gen_added_n_deleted(self.all_item_metadata, \n",
    "                                                                                   max_added=max_added, \n",
    "                                                                                   max_deleted=max_deleted)\n",
    "    self.print_dataset_components(print_added_n_deleted, add_user_metadata, add_item_metadata)\n",
    "            "
   ]
  },
  {
   "cell_type": "code",
   "execution_count": null,
   "metadata": {},
   "outputs": [
    {
     "name": "stdout",
     "output_type": "stream",
     "text": [
      "added users: ['u3', 'u4', 'u5']\t deleted users: ['u0', 'u1', 'u2']\n",
      "added items: ['i3', 'i4', 'i5']\t deleted items: ['i0', 'i1', 'i2']\n",
      "users before:\t['u0', 'u1', 'u2', 'u6', 'u7', 'u8', 'u9']\n",
      "users after:\t['u3', 'u4', 'u5', 'u6', 'u7', 'u8', 'u9']\n",
      "items before:\t['i0', 'i1', 'i2', 'i6', 'i7', 'i8', 'i9']\n",
      "items after:\t['i3', 'i4', 'i5', 'i6', 'i7', 'i8', 'i9']\n",
      "added user features: ['uf2', 'uf4', 'uf5']\t deleted user features: ['uf0', 'uf1', 'uf3']\n",
      "added item features: ['if3', 'if4', 'if5']\t deleted item features: ['if0', 'if1', 'if2']\n"
     ]
    }
   ],
   "source": [
    "x = SynthDataset()\n",
    "x.build_synth_dataset(print_added_n_deleted=True, add_user_metadata=True, add_item_metadata=True)\n",
    "# x.before['user_id'], x.after['user_id'], x.before['item_id'], x.after['item_id']"
   ]
  },
  {
   "cell_type": "code",
   "execution_count": null,
   "metadata": {},
   "outputs": [],
   "source": [
    "# export\n",
    "@patch\n",
    "def build_user_item_interactions(self:SynthDataset, \n",
    "                                 new:bool = False, \n",
    "                                 sparsity:float = 0.5, \n",
    "                                 feedback:bool = True, \n",
    "                                 timestamp:bool = True) -> pd.DataFrame:\n",
    "    '''\n",
    "    Builds interactions between users and items. If ```new=False``` the interactions build will be based on\n",
    "    the original state of the dataset, else it will be based on the new state of the dataset, with the added \n",
    "    and deleted users and items respectively \n",
    "    '''\n",
    "    if new: \n",
    "        interactions = build_interactions(self.after['user_id'], self.after['item_id'], sparsity=sparsity, feedback=feedback, timestamp=timestamp)\n",
    "    else: \n",
    "        interactions = build_interactions(self.before['user_id'], self.before['item_id'], sparsity=sparsity, feedback=feedback, timestamp=timestamp)\n",
    "    return interactions"
   ]
  },
  {
   "cell_type": "code",
   "execution_count": null,
   "metadata": {},
   "outputs": [],
   "source": [
    "# export\n",
    "def df_highlight_interaction(s):\n",
    "    '''\n",
    "    highlight the maximum in a Series yellow.\n",
    "    '''\n",
    "    # is_max = s = s.max()\n",
    "    is_max = s > 0\n",
    "    # return ['background-color: yellow' if v else '' for v in is_max]\n",
    "    return ['background-color: #1a8a1c; color: white' if v else '' for v in is_max]\n",
    "\n",
    "def df_color_positive_interaction(val):\n",
    "    \"\"\"\n",
    "    Takes a scalar and returns a string with\n",
    "    the css property `'color: red'` for negative\n",
    "    strings, black otherwise.\n",
    "    \"\"\"\n",
    "    color = '#1db31f' if val > 0 else '#bfbfbf' #1a8a1c\n",
    "    return 'color: %s' % color"
   ]
  },
  {
   "cell_type": "code",
   "execution_count": null,
   "metadata": {},
   "outputs": [],
   "source": [
    "# export\n",
    "@patch\n",
    "def top_interactions_crosstab(self:SynthDataset, \n",
    "                              df_interactions:pd.DataFrame, \n",
    "                              hightlight_interaction:bool = False, \n",
    "                              color_interaction:bool = False) -> pd.DataFrame:\n",
    "    '''\n",
    "    Takes the interactions DataFrame (user-item interactions or object-metadata interactions) and transforms de\n",
    "    Dataframe in a crosstab between the most interacted abstractions (user-item or object-metadata)\n",
    "    '''\n",
    "    g=df_interactions.groupby('user_id')['feedback'].count()\n",
    "    topUsers=g.sort_values(ascending=False)[:15]\n",
    "\n",
    "    g=df_interactions.groupby('item_id')['feedback'].count()\n",
    "    topItems=g.sort_values(ascending=False)[:15]\n",
    "\n",
    "    top_r = df.join(topUsers, rsuffix='_r', how='inner', on='user_id')\n",
    "    top_r = top_r.join(topItems, rsuffix='_r', how='inner', on='item_id')\n",
    "\n",
    "    crosstab = pd.crosstab(top_r.user_id, top_r.item_id, top_r.feedback, aggfunc=np.sum)\n",
    "    return crosstab"
   ]
  },
  {
   "cell_type": "code",
   "execution_count": null,
   "metadata": {},
   "outputs": [],
   "source": [
    "df = x.build_user_item_interactions()\n",
    "crosstab = x.top_interactions_crosstab(df, hightlight_interaction=True)"
   ]
  },
  {
   "cell_type": "code",
   "execution_count": null,
   "metadata": {},
   "outputs": [
    {
     "data": {
      "text/html": [
       "<style  type=\"text/css\" >\n",
       "#T_91c2212e_43cc_11eb_afe2_0242c0a85002row0_col0,#T_91c2212e_43cc_11eb_afe2_0242c0a85002row0_col3,#T_91c2212e_43cc_11eb_afe2_0242c0a85002row1_col0,#T_91c2212e_43cc_11eb_afe2_0242c0a85002row1_col1,#T_91c2212e_43cc_11eb_afe2_0242c0a85002row1_col2,#T_91c2212e_43cc_11eb_afe2_0242c0a85002row1_col3,#T_91c2212e_43cc_11eb_afe2_0242c0a85002row1_col4,#T_91c2212e_43cc_11eb_afe2_0242c0a85002row1_col6,#T_91c2212e_43cc_11eb_afe2_0242c0a85002row2_col0,#T_91c2212e_43cc_11eb_afe2_0242c0a85002row2_col2,#T_91c2212e_43cc_11eb_afe2_0242c0a85002row2_col4,#T_91c2212e_43cc_11eb_afe2_0242c0a85002row2_col5,#T_91c2212e_43cc_11eb_afe2_0242c0a85002row3_col0,#T_91c2212e_43cc_11eb_afe2_0242c0a85002row3_col3,#T_91c2212e_43cc_11eb_afe2_0242c0a85002row3_col4,#T_91c2212e_43cc_11eb_afe2_0242c0a85002row3_col5,#T_91c2212e_43cc_11eb_afe2_0242c0a85002row4_col1,#T_91c2212e_43cc_11eb_afe2_0242c0a85002row4_col2,#T_91c2212e_43cc_11eb_afe2_0242c0a85002row4_col4,#T_91c2212e_43cc_11eb_afe2_0242c0a85002row5_col4,#T_91c2212e_43cc_11eb_afe2_0242c0a85002row5_col5,#T_91c2212e_43cc_11eb_afe2_0242c0a85002row5_col6{\n",
       "            background-color:  #1a8a1c;\n",
       "             color:  white;\n",
       "        }</style><table id=\"T_91c2212e_43cc_11eb_afe2_0242c0a85002\" ><thead>    <tr>        <th class=\"index_name level0\" >item_id</th>        <th class=\"col_heading level0 col0\" >i0</th>        <th class=\"col_heading level0 col1\" >i1</th>        <th class=\"col_heading level0 col2\" >i2</th>        <th class=\"col_heading level0 col3\" >i6</th>        <th class=\"col_heading level0 col4\" >i7</th>        <th class=\"col_heading level0 col5\" >i8</th>        <th class=\"col_heading level0 col6\" >i9</th>    </tr>    <tr>        <th class=\"index_name level0\" >user_id</th>        <th class=\"blank\" ></th>        <th class=\"blank\" ></th>        <th class=\"blank\" ></th>        <th class=\"blank\" ></th>        <th class=\"blank\" ></th>        <th class=\"blank\" ></th>        <th class=\"blank\" ></th>    </tr></thead><tbody>\n",
       "                <tr>\n",
       "                        <th id=\"T_91c2212e_43cc_11eb_afe2_0242c0a85002level0_row0\" class=\"row_heading level0 row0\" >u0</th>\n",
       "                        <td id=\"T_91c2212e_43cc_11eb_afe2_0242c0a85002row0_col0\" class=\"data row0 col0\" >1.000000</td>\n",
       "                        <td id=\"T_91c2212e_43cc_11eb_afe2_0242c0a85002row0_col1\" class=\"data row0 col1\" >nan</td>\n",
       "                        <td id=\"T_91c2212e_43cc_11eb_afe2_0242c0a85002row0_col2\" class=\"data row0 col2\" >nan</td>\n",
       "                        <td id=\"T_91c2212e_43cc_11eb_afe2_0242c0a85002row0_col3\" class=\"data row0 col3\" >1.000000</td>\n",
       "                        <td id=\"T_91c2212e_43cc_11eb_afe2_0242c0a85002row0_col4\" class=\"data row0 col4\" >nan</td>\n",
       "                        <td id=\"T_91c2212e_43cc_11eb_afe2_0242c0a85002row0_col5\" class=\"data row0 col5\" >nan</td>\n",
       "                        <td id=\"T_91c2212e_43cc_11eb_afe2_0242c0a85002row0_col6\" class=\"data row0 col6\" >nan</td>\n",
       "            </tr>\n",
       "            <tr>\n",
       "                        <th id=\"T_91c2212e_43cc_11eb_afe2_0242c0a85002level0_row1\" class=\"row_heading level0 row1\" >u1</th>\n",
       "                        <td id=\"T_91c2212e_43cc_11eb_afe2_0242c0a85002row1_col0\" class=\"data row1 col0\" >1.000000</td>\n",
       "                        <td id=\"T_91c2212e_43cc_11eb_afe2_0242c0a85002row1_col1\" class=\"data row1 col1\" >1.000000</td>\n",
       "                        <td id=\"T_91c2212e_43cc_11eb_afe2_0242c0a85002row1_col2\" class=\"data row1 col2\" >1.000000</td>\n",
       "                        <td id=\"T_91c2212e_43cc_11eb_afe2_0242c0a85002row1_col3\" class=\"data row1 col3\" >1.000000</td>\n",
       "                        <td id=\"T_91c2212e_43cc_11eb_afe2_0242c0a85002row1_col4\" class=\"data row1 col4\" >1.000000</td>\n",
       "                        <td id=\"T_91c2212e_43cc_11eb_afe2_0242c0a85002row1_col5\" class=\"data row1 col5\" >nan</td>\n",
       "                        <td id=\"T_91c2212e_43cc_11eb_afe2_0242c0a85002row1_col6\" class=\"data row1 col6\" >1.000000</td>\n",
       "            </tr>\n",
       "            <tr>\n",
       "                        <th id=\"T_91c2212e_43cc_11eb_afe2_0242c0a85002level0_row2\" class=\"row_heading level0 row2\" >u2</th>\n",
       "                        <td id=\"T_91c2212e_43cc_11eb_afe2_0242c0a85002row2_col0\" class=\"data row2 col0\" >1.000000</td>\n",
       "                        <td id=\"T_91c2212e_43cc_11eb_afe2_0242c0a85002row2_col1\" class=\"data row2 col1\" >nan</td>\n",
       "                        <td id=\"T_91c2212e_43cc_11eb_afe2_0242c0a85002row2_col2\" class=\"data row2 col2\" >1.000000</td>\n",
       "                        <td id=\"T_91c2212e_43cc_11eb_afe2_0242c0a85002row2_col3\" class=\"data row2 col3\" >nan</td>\n",
       "                        <td id=\"T_91c2212e_43cc_11eb_afe2_0242c0a85002row2_col4\" class=\"data row2 col4\" >1.000000</td>\n",
       "                        <td id=\"T_91c2212e_43cc_11eb_afe2_0242c0a85002row2_col5\" class=\"data row2 col5\" >1.000000</td>\n",
       "                        <td id=\"T_91c2212e_43cc_11eb_afe2_0242c0a85002row2_col6\" class=\"data row2 col6\" >nan</td>\n",
       "            </tr>\n",
       "            <tr>\n",
       "                        <th id=\"T_91c2212e_43cc_11eb_afe2_0242c0a85002level0_row3\" class=\"row_heading level0 row3\" >u6</th>\n",
       "                        <td id=\"T_91c2212e_43cc_11eb_afe2_0242c0a85002row3_col0\" class=\"data row3 col0\" >1.000000</td>\n",
       "                        <td id=\"T_91c2212e_43cc_11eb_afe2_0242c0a85002row3_col1\" class=\"data row3 col1\" >nan</td>\n",
       "                        <td id=\"T_91c2212e_43cc_11eb_afe2_0242c0a85002row3_col2\" class=\"data row3 col2\" >nan</td>\n",
       "                        <td id=\"T_91c2212e_43cc_11eb_afe2_0242c0a85002row3_col3\" class=\"data row3 col3\" >1.000000</td>\n",
       "                        <td id=\"T_91c2212e_43cc_11eb_afe2_0242c0a85002row3_col4\" class=\"data row3 col4\" >1.000000</td>\n",
       "                        <td id=\"T_91c2212e_43cc_11eb_afe2_0242c0a85002row3_col5\" class=\"data row3 col5\" >1.000000</td>\n",
       "                        <td id=\"T_91c2212e_43cc_11eb_afe2_0242c0a85002row3_col6\" class=\"data row3 col6\" >nan</td>\n",
       "            </tr>\n",
       "            <tr>\n",
       "                        <th id=\"T_91c2212e_43cc_11eb_afe2_0242c0a85002level0_row4\" class=\"row_heading level0 row4\" >u7</th>\n",
       "                        <td id=\"T_91c2212e_43cc_11eb_afe2_0242c0a85002row4_col0\" class=\"data row4 col0\" >nan</td>\n",
       "                        <td id=\"T_91c2212e_43cc_11eb_afe2_0242c0a85002row4_col1\" class=\"data row4 col1\" >1.000000</td>\n",
       "                        <td id=\"T_91c2212e_43cc_11eb_afe2_0242c0a85002row4_col2\" class=\"data row4 col2\" >1.000000</td>\n",
       "                        <td id=\"T_91c2212e_43cc_11eb_afe2_0242c0a85002row4_col3\" class=\"data row4 col3\" >nan</td>\n",
       "                        <td id=\"T_91c2212e_43cc_11eb_afe2_0242c0a85002row4_col4\" class=\"data row4 col4\" >1.000000</td>\n",
       "                        <td id=\"T_91c2212e_43cc_11eb_afe2_0242c0a85002row4_col5\" class=\"data row4 col5\" >nan</td>\n",
       "                        <td id=\"T_91c2212e_43cc_11eb_afe2_0242c0a85002row4_col6\" class=\"data row4 col6\" >nan</td>\n",
       "            </tr>\n",
       "            <tr>\n",
       "                        <th id=\"T_91c2212e_43cc_11eb_afe2_0242c0a85002level0_row5\" class=\"row_heading level0 row5\" >u9</th>\n",
       "                        <td id=\"T_91c2212e_43cc_11eb_afe2_0242c0a85002row5_col0\" class=\"data row5 col0\" >nan</td>\n",
       "                        <td id=\"T_91c2212e_43cc_11eb_afe2_0242c0a85002row5_col1\" class=\"data row5 col1\" >nan</td>\n",
       "                        <td id=\"T_91c2212e_43cc_11eb_afe2_0242c0a85002row5_col2\" class=\"data row5 col2\" >nan</td>\n",
       "                        <td id=\"T_91c2212e_43cc_11eb_afe2_0242c0a85002row5_col3\" class=\"data row5 col3\" >nan</td>\n",
       "                        <td id=\"T_91c2212e_43cc_11eb_afe2_0242c0a85002row5_col4\" class=\"data row5 col4\" >1.000000</td>\n",
       "                        <td id=\"T_91c2212e_43cc_11eb_afe2_0242c0a85002row5_col5\" class=\"data row5 col5\" >1.000000</td>\n",
       "                        <td id=\"T_91c2212e_43cc_11eb_afe2_0242c0a85002row5_col6\" class=\"data row5 col6\" >1.000000</td>\n",
       "            </tr>\n",
       "    </tbody></table>"
      ],
      "text/plain": [
       "<pandas.io.formats.style.Styler at 0x7fc948f65be0>"
      ]
     },
     "execution_count": null,
     "metadata": {},
     "output_type": "execute_result"
    }
   ],
   "source": [
    "crosstab.style.apply(df_highlight_interaction)"
   ]
  },
  {
   "cell_type": "code",
   "execution_count": null,
   "metadata": {},
   "outputs": [
    {
     "data": {
      "text/html": [
       "<style  type=\"text/css\" >\n",
       "#T_92161fa4_43cc_11eb_afe2_0242c0a85002row0_col0,#T_92161fa4_43cc_11eb_afe2_0242c0a85002row0_col3,#T_92161fa4_43cc_11eb_afe2_0242c0a85002row1_col0,#T_92161fa4_43cc_11eb_afe2_0242c0a85002row1_col1,#T_92161fa4_43cc_11eb_afe2_0242c0a85002row1_col2,#T_92161fa4_43cc_11eb_afe2_0242c0a85002row1_col3,#T_92161fa4_43cc_11eb_afe2_0242c0a85002row1_col4,#T_92161fa4_43cc_11eb_afe2_0242c0a85002row1_col6,#T_92161fa4_43cc_11eb_afe2_0242c0a85002row2_col0,#T_92161fa4_43cc_11eb_afe2_0242c0a85002row2_col2,#T_92161fa4_43cc_11eb_afe2_0242c0a85002row2_col4,#T_92161fa4_43cc_11eb_afe2_0242c0a85002row2_col5,#T_92161fa4_43cc_11eb_afe2_0242c0a85002row3_col0,#T_92161fa4_43cc_11eb_afe2_0242c0a85002row3_col3,#T_92161fa4_43cc_11eb_afe2_0242c0a85002row3_col4,#T_92161fa4_43cc_11eb_afe2_0242c0a85002row3_col5,#T_92161fa4_43cc_11eb_afe2_0242c0a85002row4_col1,#T_92161fa4_43cc_11eb_afe2_0242c0a85002row4_col2,#T_92161fa4_43cc_11eb_afe2_0242c0a85002row4_col4,#T_92161fa4_43cc_11eb_afe2_0242c0a85002row5_col4,#T_92161fa4_43cc_11eb_afe2_0242c0a85002row5_col5,#T_92161fa4_43cc_11eb_afe2_0242c0a85002row5_col6{\n",
       "            color:  #1db31f;\n",
       "        }#T_92161fa4_43cc_11eb_afe2_0242c0a85002row0_col1,#T_92161fa4_43cc_11eb_afe2_0242c0a85002row0_col2,#T_92161fa4_43cc_11eb_afe2_0242c0a85002row0_col4,#T_92161fa4_43cc_11eb_afe2_0242c0a85002row0_col5,#T_92161fa4_43cc_11eb_afe2_0242c0a85002row0_col6,#T_92161fa4_43cc_11eb_afe2_0242c0a85002row1_col5,#T_92161fa4_43cc_11eb_afe2_0242c0a85002row2_col1,#T_92161fa4_43cc_11eb_afe2_0242c0a85002row2_col3,#T_92161fa4_43cc_11eb_afe2_0242c0a85002row2_col6,#T_92161fa4_43cc_11eb_afe2_0242c0a85002row3_col1,#T_92161fa4_43cc_11eb_afe2_0242c0a85002row3_col2,#T_92161fa4_43cc_11eb_afe2_0242c0a85002row3_col6,#T_92161fa4_43cc_11eb_afe2_0242c0a85002row4_col0,#T_92161fa4_43cc_11eb_afe2_0242c0a85002row4_col3,#T_92161fa4_43cc_11eb_afe2_0242c0a85002row4_col5,#T_92161fa4_43cc_11eb_afe2_0242c0a85002row4_col6,#T_92161fa4_43cc_11eb_afe2_0242c0a85002row5_col0,#T_92161fa4_43cc_11eb_afe2_0242c0a85002row5_col1,#T_92161fa4_43cc_11eb_afe2_0242c0a85002row5_col2,#T_92161fa4_43cc_11eb_afe2_0242c0a85002row5_col3{\n",
       "            color:  #bfbfbf;\n",
       "        }</style><table id=\"T_92161fa4_43cc_11eb_afe2_0242c0a85002\" ><thead>    <tr>        <th class=\"index_name level0\" >item_id</th>        <th class=\"col_heading level0 col0\" >i0</th>        <th class=\"col_heading level0 col1\" >i1</th>        <th class=\"col_heading level0 col2\" >i2</th>        <th class=\"col_heading level0 col3\" >i6</th>        <th class=\"col_heading level0 col4\" >i7</th>        <th class=\"col_heading level0 col5\" >i8</th>        <th class=\"col_heading level0 col6\" >i9</th>    </tr>    <tr>        <th class=\"index_name level0\" >user_id</th>        <th class=\"blank\" ></th>        <th class=\"blank\" ></th>        <th class=\"blank\" ></th>        <th class=\"blank\" ></th>        <th class=\"blank\" ></th>        <th class=\"blank\" ></th>        <th class=\"blank\" ></th>    </tr></thead><tbody>\n",
       "                <tr>\n",
       "                        <th id=\"T_92161fa4_43cc_11eb_afe2_0242c0a85002level0_row0\" class=\"row_heading level0 row0\" >u0</th>\n",
       "                        <td id=\"T_92161fa4_43cc_11eb_afe2_0242c0a85002row0_col0\" class=\"data row0 col0\" >1.000000</td>\n",
       "                        <td id=\"T_92161fa4_43cc_11eb_afe2_0242c0a85002row0_col1\" class=\"data row0 col1\" >nan</td>\n",
       "                        <td id=\"T_92161fa4_43cc_11eb_afe2_0242c0a85002row0_col2\" class=\"data row0 col2\" >nan</td>\n",
       "                        <td id=\"T_92161fa4_43cc_11eb_afe2_0242c0a85002row0_col3\" class=\"data row0 col3\" >1.000000</td>\n",
       "                        <td id=\"T_92161fa4_43cc_11eb_afe2_0242c0a85002row0_col4\" class=\"data row0 col4\" >nan</td>\n",
       "                        <td id=\"T_92161fa4_43cc_11eb_afe2_0242c0a85002row0_col5\" class=\"data row0 col5\" >nan</td>\n",
       "                        <td id=\"T_92161fa4_43cc_11eb_afe2_0242c0a85002row0_col6\" class=\"data row0 col6\" >nan</td>\n",
       "            </tr>\n",
       "            <tr>\n",
       "                        <th id=\"T_92161fa4_43cc_11eb_afe2_0242c0a85002level0_row1\" class=\"row_heading level0 row1\" >u1</th>\n",
       "                        <td id=\"T_92161fa4_43cc_11eb_afe2_0242c0a85002row1_col0\" class=\"data row1 col0\" >1.000000</td>\n",
       "                        <td id=\"T_92161fa4_43cc_11eb_afe2_0242c0a85002row1_col1\" class=\"data row1 col1\" >1.000000</td>\n",
       "                        <td id=\"T_92161fa4_43cc_11eb_afe2_0242c0a85002row1_col2\" class=\"data row1 col2\" >1.000000</td>\n",
       "                        <td id=\"T_92161fa4_43cc_11eb_afe2_0242c0a85002row1_col3\" class=\"data row1 col3\" >1.000000</td>\n",
       "                        <td id=\"T_92161fa4_43cc_11eb_afe2_0242c0a85002row1_col4\" class=\"data row1 col4\" >1.000000</td>\n",
       "                        <td id=\"T_92161fa4_43cc_11eb_afe2_0242c0a85002row1_col5\" class=\"data row1 col5\" >nan</td>\n",
       "                        <td id=\"T_92161fa4_43cc_11eb_afe2_0242c0a85002row1_col6\" class=\"data row1 col6\" >1.000000</td>\n",
       "            </tr>\n",
       "            <tr>\n",
       "                        <th id=\"T_92161fa4_43cc_11eb_afe2_0242c0a85002level0_row2\" class=\"row_heading level0 row2\" >u2</th>\n",
       "                        <td id=\"T_92161fa4_43cc_11eb_afe2_0242c0a85002row2_col0\" class=\"data row2 col0\" >1.000000</td>\n",
       "                        <td id=\"T_92161fa4_43cc_11eb_afe2_0242c0a85002row2_col1\" class=\"data row2 col1\" >nan</td>\n",
       "                        <td id=\"T_92161fa4_43cc_11eb_afe2_0242c0a85002row2_col2\" class=\"data row2 col2\" >1.000000</td>\n",
       "                        <td id=\"T_92161fa4_43cc_11eb_afe2_0242c0a85002row2_col3\" class=\"data row2 col3\" >nan</td>\n",
       "                        <td id=\"T_92161fa4_43cc_11eb_afe2_0242c0a85002row2_col4\" class=\"data row2 col4\" >1.000000</td>\n",
       "                        <td id=\"T_92161fa4_43cc_11eb_afe2_0242c0a85002row2_col5\" class=\"data row2 col5\" >1.000000</td>\n",
       "                        <td id=\"T_92161fa4_43cc_11eb_afe2_0242c0a85002row2_col6\" class=\"data row2 col6\" >nan</td>\n",
       "            </tr>\n",
       "            <tr>\n",
       "                        <th id=\"T_92161fa4_43cc_11eb_afe2_0242c0a85002level0_row3\" class=\"row_heading level0 row3\" >u6</th>\n",
       "                        <td id=\"T_92161fa4_43cc_11eb_afe2_0242c0a85002row3_col0\" class=\"data row3 col0\" >1.000000</td>\n",
       "                        <td id=\"T_92161fa4_43cc_11eb_afe2_0242c0a85002row3_col1\" class=\"data row3 col1\" >nan</td>\n",
       "                        <td id=\"T_92161fa4_43cc_11eb_afe2_0242c0a85002row3_col2\" class=\"data row3 col2\" >nan</td>\n",
       "                        <td id=\"T_92161fa4_43cc_11eb_afe2_0242c0a85002row3_col3\" class=\"data row3 col3\" >1.000000</td>\n",
       "                        <td id=\"T_92161fa4_43cc_11eb_afe2_0242c0a85002row3_col4\" class=\"data row3 col4\" >1.000000</td>\n",
       "                        <td id=\"T_92161fa4_43cc_11eb_afe2_0242c0a85002row3_col5\" class=\"data row3 col5\" >1.000000</td>\n",
       "                        <td id=\"T_92161fa4_43cc_11eb_afe2_0242c0a85002row3_col6\" class=\"data row3 col6\" >nan</td>\n",
       "            </tr>\n",
       "            <tr>\n",
       "                        <th id=\"T_92161fa4_43cc_11eb_afe2_0242c0a85002level0_row4\" class=\"row_heading level0 row4\" >u7</th>\n",
       "                        <td id=\"T_92161fa4_43cc_11eb_afe2_0242c0a85002row4_col0\" class=\"data row4 col0\" >nan</td>\n",
       "                        <td id=\"T_92161fa4_43cc_11eb_afe2_0242c0a85002row4_col1\" class=\"data row4 col1\" >1.000000</td>\n",
       "                        <td id=\"T_92161fa4_43cc_11eb_afe2_0242c0a85002row4_col2\" class=\"data row4 col2\" >1.000000</td>\n",
       "                        <td id=\"T_92161fa4_43cc_11eb_afe2_0242c0a85002row4_col3\" class=\"data row4 col3\" >nan</td>\n",
       "                        <td id=\"T_92161fa4_43cc_11eb_afe2_0242c0a85002row4_col4\" class=\"data row4 col4\" >1.000000</td>\n",
       "                        <td id=\"T_92161fa4_43cc_11eb_afe2_0242c0a85002row4_col5\" class=\"data row4 col5\" >nan</td>\n",
       "                        <td id=\"T_92161fa4_43cc_11eb_afe2_0242c0a85002row4_col6\" class=\"data row4 col6\" >nan</td>\n",
       "            </tr>\n",
       "            <tr>\n",
       "                        <th id=\"T_92161fa4_43cc_11eb_afe2_0242c0a85002level0_row5\" class=\"row_heading level0 row5\" >u9</th>\n",
       "                        <td id=\"T_92161fa4_43cc_11eb_afe2_0242c0a85002row5_col0\" class=\"data row5 col0\" >nan</td>\n",
       "                        <td id=\"T_92161fa4_43cc_11eb_afe2_0242c0a85002row5_col1\" class=\"data row5 col1\" >nan</td>\n",
       "                        <td id=\"T_92161fa4_43cc_11eb_afe2_0242c0a85002row5_col2\" class=\"data row5 col2\" >nan</td>\n",
       "                        <td id=\"T_92161fa4_43cc_11eb_afe2_0242c0a85002row5_col3\" class=\"data row5 col3\" >nan</td>\n",
       "                        <td id=\"T_92161fa4_43cc_11eb_afe2_0242c0a85002row5_col4\" class=\"data row5 col4\" >1.000000</td>\n",
       "                        <td id=\"T_92161fa4_43cc_11eb_afe2_0242c0a85002row5_col5\" class=\"data row5 col5\" >1.000000</td>\n",
       "                        <td id=\"T_92161fa4_43cc_11eb_afe2_0242c0a85002row5_col6\" class=\"data row5 col6\" >1.000000</td>\n",
       "            </tr>\n",
       "    </tbody></table>"
      ],
      "text/plain": [
       "<pandas.io.formats.style.Styler at 0x7fc948595190>"
      ]
     },
     "execution_count": null,
     "metadata": {},
     "output_type": "execute_result"
    }
   ],
   "source": [
    "crosstab.style.applymap(df_color_positive_interaction)"
   ]
  }
 ],
 "metadata": {
  "kernelspec": {
   "display_name": "Python 3",
   "language": "python",
   "name": "python3"
  }
 },
 "nbformat": 4,
 "nbformat_minor": 4
}
