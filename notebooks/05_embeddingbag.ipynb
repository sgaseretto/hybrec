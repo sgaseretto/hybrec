{
 "cells": [
  {
   "cell_type": "code",
   "execution_count": null,
   "metadata": {},
   "outputs": [],
   "source": [
    "import torch\n",
    "from torch import nn"
   ]
  },
  {
   "cell_type": "code",
   "execution_count": null,
   "metadata": {},
   "outputs": [
    {
     "data": {
      "text/plain": [
       "Parameter containing:\n",
       "tensor([[-3.6467e-01, -8.1340e-01, -1.5706e-01],\n",
       "        [-8.7280e-01, -3.1360e-01, -2.8003e-01],\n",
       "        [ 1.2358e+00,  1.1763e-01, -1.2437e-02],\n",
       "        [ 3.8914e-02, -1.3369e-01, -1.6582e-01],\n",
       "        [-1.7532e+00, -9.7848e-01,  5.5114e-02],\n",
       "        [ 4.0866e-01,  4.6727e-01,  7.0462e-01],\n",
       "        [ 6.8699e-04,  8.5198e-03,  1.0356e+00],\n",
       "        [-2.0916e+00, -1.0700e+00,  4.0173e-01],\n",
       "        [-1.2464e-01, -1.6250e+00, -1.0792e+00],\n",
       "        [-1.3369e+00,  4.8772e-01, -6.4277e-01]], requires_grad=True)"
      ]
     },
     "execution_count": null,
     "metadata": {},
     "output_type": "execute_result"
    }
   ],
   "source": [
    "embedding_sum = nn.EmbeddingBag(10, 3, mode='sum')\n",
    "# embedding_sum = nn.EmbeddingBag(5, 3, mode='sum')\n",
    "embedding_sum.weight"
   ]
  },
  {
   "cell_type": "code",
   "execution_count": null,
   "metadata": {},
   "outputs": [
    {
     "data": {
      "text/plain": [
       "tensor(5)"
      ]
     },
     "execution_count": null,
     "metadata": {},
     "output_type": "execute_result"
    }
   ],
   "source": [
    "input = torch.LongTensor([1,2,4,5,4,3,2,9])\n",
    "# input = torch.LongTensor([1,2,4,5,4,3,2])\n",
    "input[3]"
   ]
  },
  {
   "cell_type": "code",
   "execution_count": null,
   "metadata": {},
   "outputs": [
    {
     "data": {
      "text/plain": [
       "tensor([0, 2, 4])"
      ]
     },
     "execution_count": null,
     "metadata": {},
     "output_type": "execute_result"
    }
   ],
   "source": [
    "# offsets = torch.LongTensor([0,4])\n",
    "offsets = torch.LongTensor([0,2,4])\n",
    "offsets"
   ]
  },
  {
   "cell_type": "code",
   "execution_count": null,
   "metadata": {},
   "outputs": [
    {
     "data": {
      "text/plain": [
       "tensor([[ 0.3630, -0.1960, -0.2925],\n",
       "        [-1.3446, -0.5112,  0.7597],\n",
       "        [-1.8154, -0.5068, -0.7659]], grad_fn=<EmbeddingBagBackward>)"
      ]
     },
     "execution_count": null,
     "metadata": {},
     "output_type": "execute_result"
    }
   ],
   "source": [
    "embedding_sum(input, offsets)"
   ]
  },
  {
   "cell_type": "code",
   "execution_count": null,
   "metadata": {},
   "outputs": [
    {
     "data": {
      "text/plain": [
       "Parameter containing:\n",
       "tensor([[-3.6467e-01, -8.1340e-01, -1.5706e-01],\n",
       "        [-8.7280e-01, -3.1360e-01, -2.8003e-01],\n",
       "        [ 1.2358e+00,  1.1763e-01, -1.2437e-02],\n",
       "        [ 3.8914e-02, -1.3369e-01, -1.6582e-01],\n",
       "        [-1.7532e+00, -9.7848e-01,  5.5114e-02],\n",
       "        [ 4.0866e-01,  4.6727e-01,  7.0462e-01],\n",
       "        [ 6.8699e-04,  8.5198e-03,  1.0356e+00],\n",
       "        [-2.0916e+00, -1.0700e+00,  4.0173e-01],\n",
       "        [-1.2464e-01, -1.6250e+00, -1.0792e+00],\n",
       "        [-1.3369e+00,  4.8772e-01, -6.4277e-01]], requires_grad=True)"
      ]
     },
     "execution_count": null,
     "metadata": {},
     "output_type": "execute_result"
    }
   ],
   "source": [
    "embedding_sum.weight"
   ]
  },
  {
   "cell_type": "code",
   "execution_count": null,
   "metadata": {},
   "outputs": [],
   "source": [
    "feature_1 = [0,3,4]\n",
    "feature_"
   ]
  }
 ],
 "metadata": {
  "kernelspec": {
   "display_name": "Python 3",
   "language": "python",
   "name": "python3"
  }
 },
 "nbformat": 4,
 "nbformat_minor": 4
}
